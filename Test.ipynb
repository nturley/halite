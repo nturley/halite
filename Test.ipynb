{
 "cells": [
  {
   "cell_type": "code",
   "execution_count": 1,
   "metadata": {},
   "outputs": [],
   "source": [
    "from kaggle_environments import make\n",
    "from kaggle_environments.envs.halite.helpers import *\n",
    "\n",
    "# Create a test environment for use later\n",
    "board_size = 9\n",
    "environment = make(\"halite\", configuration={\"size\": board_size, \"startingHalite\": 1000})\n",
    "agent_count = 4"
   ]
  },
  {
   "cell_type": "code",
   "execution_count": 2,
   "metadata": {
    "scrolled": false
   },
   "outputs": [
    {
     "data": {
      "application/vnd.jupyter.widget-view+json": {
       "model_id": "b6993d7eb2c1478e8930febf0560685e",
       "version_major": 2,
       "version_minor": 0
      },
      "text/plain": [
       "interactive(children=(IntSlider(value=0, description='t', max=49), Checkbox(value=True, description='cell_hali…"
      ]
     },
     "metadata": {},
     "output_type": "display_data"
    }
   ],
   "source": [
    "import random\n",
    "from board_viz import draw_game, draw_board\n",
    "\n",
    "def vector_distance(origin: Point, dest: Point):\n",
    "    center = Point(board_size // 2, board_size // 2)\n",
    "    return (dest - origin + center) % board_size - center\n",
    "\n",
    "def manhattan_distance(p1: Point, p2: Point):\n",
    "    dp = abs(vector_distance(p1, p2))\n",
    "    return dp.x + dp.y\n",
    "\n",
    "def magnitude(p):\n",
    "    return abs(p.x) + abs(p.y)\n",
    "\n",
    "def safe_float_div(p: Point, scalar):\n",
    "    ''' floating point divide by a scalar number, returns zeros instead raising an exception'''\n",
    "    return Point(p.x/scalar if p.x != 0 else 0, p.y/scalar if p.y != 0 else 0)\n",
    "\n",
    "def direction(origin, destination):\n",
    "    ''' Returns a unit vector in the direction from origin to destination'''\n",
    "    return safe_float_div(vector_distance(origin, destination), manhattan_distance(origin, destination))\n",
    "\n",
    "def halite_move_force(ship, cell):\n",
    "    ''' calculates the pull force vector of halite on the ship'''\n",
    "    dist = manhattan_distance(ship.position, cell.position)\n",
    "    # divide halite by distance to get initial magnitude\n",
    "    magnitude = cell.halite / dist if dist > 0 else 0\n",
    "    return direction(ship.position, cell.position) * magnitude\n",
    "\n",
    "stay_power = 1.4\n",
    "cluster_power = 0.1\n",
    "\n",
    "def force_to_action(best_move_force, sum_move_force, stay_force):\n",
    "    ''' Turns three input values into a Ship action\n",
    "    best_move_force is the best calculated single cell to move to\n",
    "    sum_move_force is the best overall direction to move toward\n",
    "    stay_force is the magnitude of how good our current cell is\n",
    "    we use stay_power and cluster_power to scale them\n",
    "    '''\n",
    "    move_force = best_move_force + sum_move_force * cluster_power\n",
    "    stay_force = stay_force * stay_power\n",
    "    if stay_force > abs(move_force.x) and stay_force > abs(move_force.y):\n",
    "        return None\n",
    "    if abs(move_force.x) > abs(move_force.y):\n",
    "        if move_force.x > 0:\n",
    "            return ShipAction.EAST\n",
    "        return ShipAction.WEST\n",
    "    if move_force.y > 0:\n",
    "        return ShipAction.NORTH\n",
    "    return ShipAction.SOUTH\n",
    "\n",
    "def next_move(board, ship, t):\n",
    "    if t == 0:\n",
    "        return ShipAction.CONVERT\n",
    "    sum_move_force = Point(0, 0)\n",
    "    best_move_force = Point(0, 0)\n",
    "    for cpos, cell in board.cells.items():\n",
    "        move_force = halite_move_force(ship, cell)\n",
    "        best_move_force = max(move_force, best_move_force, key=magnitude)\n",
    "        sum_move_force += move_force\n",
    "    return force_to_action(best_move_force, sum_move_force, board.cells[ship.position].halite)\n",
    "\n",
    "environment.reset(agent_count)\n",
    "state = environment.state[0]\n",
    "board = Board(state.observation, environment.configuration)\n",
    "t = 0\n",
    "def step(board, t):\n",
    "    for ship in board.ships.values():\n",
    "        ship.next_action = next_move(board, ship, t)\n",
    "    for shipyard in board.shipyards.values():\n",
    "        if len(board.ships) < 2:\n",
    "            shipyard.next_action = ShipyardAction.SPAWN\n",
    "\n",
    "boards = [board]\n",
    "for i in range(50):\n",
    "    step(board, t)\n",
    "    t += 1\n",
    "    board = board.next()\n",
    "    boards.append(board)\n",
    "    if len(board.ships)+ len(board.shipyards)==0:\n",
    "        break\n",
    "draw_game(boards)\n"
   ]
  },
  {
   "cell_type": "code",
   "execution_count": 21,
   "metadata": {},
   "outputs": [
    {
     "name": "stdout",
     "output_type": "stream",
     "text": [
      "([(3, 3), (3, 2), (3, 2), (3, 2), (4, 2), (4, 2), (4, 2), (4, 2)], 193.984375)\n",
      "time: 5.993701219558716 seconds\n"
     ]
    },
    {
     "data": {
      "application/vnd.jupyter.widget-view+json": {
       "model_id": "622c0cd1d8a1417a9fad966243557db8",
       "version_major": 2,
       "version_minor": 0
      },
      "text/plain": [
       "interactive(children=(IntSlider(value=0, description='t', max=11), Checkbox(value=True, description='cell_hali…"
      ]
     },
     "metadata": {},
     "output_type": "display_data"
    }
   ],
   "source": [
    "import time\n",
    "\n",
    "def score_solution(board, positions):\n",
    "    score = 0.0\n",
    "    halite = {pos : cell.halite for pos, cell in board.cells.items()}\n",
    "    prev_pos = None\n",
    "    for pos in positions:\n",
    "        if prev_pos:\n",
    "            if pos == prev_pos:\n",
    "                score += halite[pos] * 0.25\n",
    "                halite[pos] *= 0.75\n",
    "        prev_pos = pos\n",
    "    return score\n",
    "\n",
    "def is_valid(board, t, t_max, positions, candidate, origin, destination):\n",
    "    # assume candidate is 1 away from position[t-1]\n",
    "    # assume that position[0] is 1 away origin\n",
    "    if candidate == origin:\n",
    "        return False\n",
    "    if candidate == destination:\n",
    "        return False\n",
    "    if manhattan_distance(candidate, destination) > t_max - t:\n",
    "        return False\n",
    "    return True\n",
    "\n",
    "def find_candidates(board, t, t_max, positions, origin, destination):\n",
    "    pos = positions[t - 1] if t > 0 else origin\n",
    "    legal_moves = [Point(1,0), Point(-1, 0), Point(0,1), Point(0,-1), Point(0,0)]\n",
    "    candidates = [(m + pos) % board.configuration.size for m in legal_moves] \n",
    "    return [candidate for candidate in candidates if is_valid(board, t, t_max, positions, candidate, origin, destination)]\n",
    "\n",
    "def dfs_solutions(board, t, t_max, positions, origin, destination):\n",
    "    best_solution = [], 0\n",
    "    if t == t_max:\n",
    "        score = score_solution(board, positions)\n",
    "        return positions, score\n",
    "    candidates = find_candidates(board, t, t_max, positions, origin, destination)\n",
    "    for candidate in candidates:\n",
    "        positions[t] = candidate\n",
    "        solution, score = dfs_solutions(board, t + 1, t_max, positions, origin, destination)\n",
    "        if score > best_solution[1]:\n",
    "            best_solution = solution[:], score\n",
    "    return best_solution    \n",
    "\n",
    "board_size = 8\n",
    "environment = make(\"halite\", configuration={\"size\": board_size, \"startingHalite\": 1000})\n",
    "agent_count = 1\n",
    "environment.reset(agent_count)\n",
    "state = environment.state[0]\n",
    "board = Board(state.observation, environment.configuration)\n",
    "\n",
    "boards = [board]\n",
    "ship = list(board.ships.values())[0]\n",
    "start_pos = ship.position\n",
    "\n",
    "start_time = time.time()\n",
    "solution = dfs_solutions(board, 0, 8, [None]*8, start_pos, start_pos)\n",
    "print(solution)\n",
    "print('time:', time.time()-start_time, 'seconds')\n",
    "\n",
    "action_lookup = {\n",
    "    Point(0,0): None,\n",
    "    Point(1,0): ShipAction.EAST,\n",
    "    Point(-1,0): ShipAction.WEST,\n",
    "    Point(0,1): ShipAction.NORTH,\n",
    "    Point(0,-1): ShipAction.SOUTH\n",
    "}\n",
    "ship.next_action = ShipAction.CONVERT\n",
    "board = board.next()\n",
    "boards.append(board)\n",
    "shipyard = list(board.shipyards.values())[0]\n",
    "shipyard.next_action = ShipyardAction.SPAWN\n",
    "board = board.next()\n",
    "boards.append(board)\n",
    "for pos in solution[0] +[start_pos]:\n",
    "    ship = list(board.ships.values())[0]\n",
    "    ship.next_action = action_lookup[pos - ship.position]\n",
    "    board = board.next()\n",
    "    boards.append(board)\n",
    "boards.append(board)\n",
    "draw_game(boards)\n",
    "\n"
   ]
  },
  {
   "cell_type": "code",
   "execution_count": null,
   "metadata": {},
   "outputs": [],
   "source": []
  }
 ],
 "metadata": {
  "kernelspec": {
   "display_name": "Python 3",
   "language": "python",
   "name": "python3"
  },
  "language_info": {
   "codemirror_mode": {
    "name": "ipython",
    "version": 3
   },
   "file_extension": ".py",
   "mimetype": "text/x-python",
   "name": "python",
   "nbconvert_exporter": "python",
   "pygments_lexer": "ipython3",
   "version": "3.8.5"
  }
 },
 "nbformat": 4,
 "nbformat_minor": 2
}
