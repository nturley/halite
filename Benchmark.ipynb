{
 "cells": [
  {
   "cell_type": "markdown",
   "metadata": {},
   "source": [
    "# Benchmarking Cardinal Distance Algorithms"
   ]
  },
  {
   "cell_type": "code",
   "execution_count": 18,
   "metadata": {},
   "outputs": [],
   "source": [
    "from typing import Tuple\n",
    "import numpy as np\n",
    "import random\n",
    "from pympler import asizeof\n",
    "from humanize import naturalsize"
   ]
  },
  {
   "cell_type": "markdown",
   "metadata": {},
   "source": [
    "First we are going to look at my approach\n",
    "\n",
    "My function does a shift-modulo-shift approach to handle board wrap. Other implementations seem to prefer the if-statement approach, but I'm always suspicious of if statements in highly optimized code because of branch prediction penalties. Modern processors do a lot of speculative execution, so it can often execute code more quickly if it doesn't need to branch execution depending on the result of a computation. At least that's true in C code. I honestly don't know how true that is in cpython when the code is interpreted by the VM."
   ]
  },
  {
   "cell_type": "code",
   "execution_count": 2,
   "metadata": {},
   "outputs": [],
   "source": [
    "def cardinal_distance_mine(start_pos: Tuple[int, int], end_pos:Tuple[int, int], boardsize=21):\n",
    "    center = boardsize // 2\n",
    "    dx = (end_pos[0] - start_pos[0] + center) % boardsize - center\n",
    "    dy = (end_pos[1] - start_pos[1] + center) % boardsize - center\n",
    "    return dx, dy"
   ]
  },
  {
   "cell_type": "markdown",
   "metadata": {},
   "source": [
    "Next we are going to look at the approach I saw with some of the starter bots and I saw on stack overflow which is to use if statements. This one has the benefit of very fewer mathematical operations than mine on average but includes some conditional branches of execution."
   ]
  },
  {
   "cell_type": "code",
   "execution_count": 3,
   "metadata": {},
   "outputs": [],
   "source": [
    "def cardinal_distance_if(start_pos: Tuple[int, int], end_pos:Tuple[int, int], boardsize=21):\n",
    "    center = boardsize // 2\n",
    "    dx = end_pos[0] - start_pos[0]\n",
    "    dy = end_pos[1] - start_pos[1]\n",
    "    if dx > center:\n",
    "        dx -= boardsize\n",
    "    if dx < -center:\n",
    "        dx += boardsize\n",
    "    if dy > center:\n",
    "        dy -= boardsize\n",
    "    if dy < -center:\n",
    "        dy += boardsize\n",
    "    return dx, dy "
   ]
  },
  {
   "cell_type": "markdown",
   "metadata": {},
   "source": [
    "Bob's cardinal distance function is a bit more convoluted but it doesn't matter how complex it is because he only uses it to prefill an array that we index into."
   ]
  },
  {
   "cell_type": "code",
   "execution_count": 4,
   "metadata": {},
   "outputs": [],
   "source": [
    "def cardinal_distance(start_point, end_point, boardsize=21):\n",
    "    # returns the distance needed to travel across a wrapped board of size [boardsize] where the \n",
    "    # first output is the west to east distance (or a negative value if faster to travel westbound)\n",
    "    # and the second output is the north to south distance (or a negative value if shorter to \n",
    "    # travel southbound.\n",
    "    #\n",
    "    # The inputs, start_point and end_point are expected to be integers where value zero is the northwest\n",
    "    # point on the board and value boardsize*boardsize-1 is the southeast point on the board.\n",
    "    \n",
    "    # Calculate the distance traveling east (1st element) or west (2nd element)\n",
    "    dist_west2east = ((end_point - start_point) % boardsize, \n",
    "                      (boardsize - ( (end_point - start_point) % boardsize) ))\n",
    "    # return the signed minimum distance, negative values means travel west\n",
    "    dist_west2east = min(dist_west2east)*(-1)**dist_west2east.index(min(dist_west2east))\n",
    "\n",
    "    # Calculate the distance traveling south (1st element) or north (2nd element)\n",
    "    dist_north2south = ((end_point//boardsize - start_point//boardsize) % boardsize, \n",
    "                        ( boardsize - ( (end_point//boardsize - start_point//boardsize) % boardsize) ))\n",
    "    # return the signed minimum distance, where negative values mean traveling north\n",
    "    dist_north2south = min(dist_north2south)*(-1)**dist_north2south.index(min(dist_north2south))\n",
    "\n",
    "    return dist_west2east, dist_north2south\n",
    "\n",
    "def make_cardinal_distance_list(boardsize=21):\n",
    "    startpoints = np.arange(boardsize**2)\n",
    "    endpoints = np.arange(boardsize**2)\n",
    "    cardinal_distance_list = []\n",
    "    for start_point in startpoints:\n",
    "        cardinal_distance_list.append([cardinal_distance(start_point,end_point) for end_point in endpoints])\n",
    "    return cardinal_distance_list\n",
    "\n",
    "cardinal_distance_list = make_cardinal_distance_list()\n"
   ]
  },
  {
   "cell_type": "markdown",
   "metadata": {},
   "source": [
    "# Correctness\n",
    "Let's compare the implementations to make sure they return the same results"
   ]
  },
  {
   "cell_type": "code",
   "execution_count": 5,
   "metadata": {},
   "outputs": [
    {
     "name": "stdout",
     "output_type": "stream",
     "text": [
      "(21, 7) (5, 6) => (5, -1) (5, -1) (5, -2)\n",
      "(5, 6) (12, 13) => (7, 7) (7, 7) (7, 7)\n",
      "(12, 13) (1, 15) => (10, 2) (10, 2) (10, 2)\n",
      "(1, 15) (8, 15) => (7, 0) (7, 0) (7, 0)\n",
      "(8, 15) (8, 12) => (0, -3) (0, -3) (0, -3)\n"
     ]
    }
   ],
   "source": [
    "test_cases = [(random.randint(0,21),random.randint(0, 21)) for _ in range(6)]\n",
    "for p1, p2 in zip(test_cases, test_cases[1:]):\n",
    "    print(p1, p2, '=>',\n",
    "          cardinal_distance_mine(p1, p2),\n",
    "          cardinal_distance_if(p1, p2),\n",
    "          cardinal_distance(p1[0] + p1[1] * 21, p2[0] + p2[1] * 21))"
   ]
  },
  {
   "cell_type": "markdown",
   "metadata": {},
   "source": [
    "\n",
    "\n",
    "# Performance"
   ]
  },
  {
   "cell_type": "code",
   "execution_count": 24,
   "metadata": {},
   "outputs": [
    {
     "name": "stdout",
     "output_type": "stream",
     "text": [
      "RNG Base Cost\n",
      "9.52 µs ± 252 ns per loop (mean ± std. dev. of 7 runs, 100000 loops each)\n",
      "\n",
      "Shift Modulo\n",
      "11.1 µs ± 144 ns per loop (mean ± std. dev. of 7 runs, 100000 loops each)\n",
      "\n",
      "If Statements\n",
      "11.5 µs ± 227 ns per loop (mean ± std. dev. of 7 runs, 100000 loops each)\n",
      "\n",
      "Bobs Algorithm\n",
      "15.4 µs ± 567 ns per loop (mean ± std. dev. of 7 runs, 100000 loops each)\n",
      "\n",
      "Bobs Algorithm (cached)\n",
      "10.9 µs ± 136 ns per loop (mean ± std. dev. of 7 runs, 100000 loops each)\n"
     ]
    }
   ],
   "source": [
    "print('RNG Base Cost')\n",
    "%timeit ((random.randint(0, 20), random.randint(0, 20)), (random.randint(0, 20), random.randint(0, 20)))\n",
    "print('\\nShift Modulo')\n",
    "%timeit cardinal_distance_mine((random.randint(0, 20), random.randint(0, 20)), (random.randint(0, 20), random.randint(0, 20)))\n",
    "print('\\nIf Statements')\n",
    "%timeit cardinal_distance_if((random.randint(0, 20),random.randint(0, 20)), (random.randint(0, 20),random.randint(0, 20)))\n",
    "print('\\nBobs Algorithm')\n",
    "%timeit cardinal_distance(random.randint(0, 20) + random.randint(0, 20) * 21, random.randint(0, 20) + random.randint(0, 20) * 21)\n",
    "print('\\nBobs Algorithm (cached)')\n",
    "%timeit cardinal_distance_list[random.randint(0, 20) + random.randint(0, 20) * 21][random.randint(0, 20) + random.randint(0, 20) * 21]"
   ]
  },
  {
   "cell_type": "markdown",
   "metadata": {},
   "source": [
    "Shift modulo vs cache is pretty close. They are almost withi\n",
    "\n",
    "# Cache Memory Usage"
   ]
  },
  {
   "cell_type": "code",
   "execution_count": 19,
   "metadata": {},
   "outputs": [
    {
     "data": {
      "text/plain": [
       "'23.8 MiB'"
      ]
     },
     "execution_count": 19,
     "metadata": {},
     "output_type": "execute_result"
    }
   ],
   "source": [
    "naturalsize(asizeof.asizeof(cardinal_distance_list), binary=True)"
   ]
  }
 ],
 "metadata": {
  "kernelspec": {
   "display_name": "Python 3",
   "language": "python",
   "name": "python3"
  },
  "language_info": {
   "codemirror_mode": {
    "name": "ipython",
    "version": 3
   },
   "file_extension": ".py",
   "mimetype": "text/x-python",
   "name": "python",
   "nbconvert_exporter": "python",
   "pygments_lexer": "ipython3",
   "version": "3.8.5"
  }
 },
 "nbformat": 4,
 "nbformat_minor": 4
}
