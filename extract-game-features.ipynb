{
 "cells": [
  {
   "cell_type": "markdown",
   "metadata": {},
   "source": [
    "# Extracting Game Features\n",
    "\n",
    "*RS Turley 8/3/2020*\n",
    "\n",
    "A key feature in any strategy concerns the worth of a ship. In order to make decisions regarding spawning, attack, sacrifice, etc., we need some concept of the value of a ship as measured by its halite production or accomplishments in attacking or defending. This notebook is built to extract features from high level games played by others to estimate the value of a ship given various conditions."
   ]
  },
  {
   "cell_type": "markdown",
   "metadata": {},
   "source": [
    "### Libraries"
   ]
  },
  {
   "cell_type": "code",
   "execution_count": 1,
   "metadata": {},
   "outputs": [],
   "source": [
    "import pandas as pd\n",
    "import numpy as np\n",
    "from scipy import signal\n",
    "import os\n",
    "import json\n",
    "#from kaggle_environments.envs.halite.helpers import *"
   ]
  },
  {
   "cell_type": "code",
   "execution_count": 2,
   "metadata": {},
   "outputs": [],
   "source": [
    "# to better display 21x21 matrices of halite\n",
    "np.set_printoptions(linewidth=180,precision=1)"
   ]
  },
  {
   "cell_type": "markdown",
   "metadata": {},
   "source": [
    "### Data"
   ]
  },
  {
   "cell_type": "code",
   "execution_count": 3,
   "metadata": {},
   "outputs": [],
   "source": [
    "SCRAPED_DIR = '../kaggle_games/'\n",
    "MIN_AVG_RATING = 950\n",
    "episodes_df_file = 'episodes_df.pkl'"
   ]
  },
  {
   "cell_type": "code",
   "execution_count": 4,
   "metadata": {},
   "outputs": [
    {
     "name": "stdout",
     "output_type": "stream",
     "text": [
      "21214 games in existing library\n"
     ]
    }
   ],
   "source": [
    "episode_files = []\n",
    "episode_files_full = []\n",
    "for dirpath, subdirs, files in os.walk(SCRAPED_DIR):\n",
    "    for x in files:\n",
    "        if x.endswith(\".json\"):\n",
    "            episode_files_full.append(os.path.join(dirpath, x))\n",
    "            episode_files.append(x)\n",
    "\n",
    "episode_files = [ef.split('.')[0] for ef in episode_files]\n",
    "episode_files_df = pd.DataFrame(episode_files_full,index=episode_files)\n",
    "episode_files_df.drop( episode_files_df.index[[not episode_files.isdigit() for episode_files in episode_files_df.index]],inplace=True)\n",
    "episode_files_df.index = [int(f) for f in episode_files_df.index]\n",
    "episode_files_df = episode_files_df.loc[~episode_files_df.index.duplicated(keep='first')]\n",
    "print('{} games in existing library'.format(len(episode_files_df)))"
   ]
  },
  {
   "cell_type": "code",
   "execution_count": 5,
   "metadata": {},
   "outputs": [
    {
     "name": "stdout",
     "output_type": "stream",
     "text": [
      "19272 games with qualifying avg_score>\n"
     ]
    }
   ],
   "source": [
    "all_episodes_df = pd.read_pickle(SCRAPED_DIR+episodes_df_file)\n",
    "library_episodes_df = all_episodes_df.loc[all_episodes_df.id.isin(episode_files_df.index)]\n",
    "select_episodes_df = library_episodes_df.drop(library_episodes_df.loc[library_episodes_df['avg_score'].values < MIN_AVG_RATING].index, inplace = False)\n",
    "select_episodes_df.sort_values('avg_score', inplace = True)\n",
    "select_episodes_df['file_location'] = episode_files_df.loc[select_episodes_df['id']].values\n",
    "print('{} games with qualifying avg_score>'.format(len(select_episodes_df)))"
   ]
  },
  {
   "cell_type": "markdown",
   "metadata": {},
   "source": [
    "# Helpful Functions\n",
    "\n",
    "The following functions will be helpful in analyzing game boards and player behavior:\n",
    "\n",
    "* **cardinal_distance(start_point, end_point)** calculates the distance between two points with the output being the tuple `(dist_west2east , dist_north2south)`, where the first element represents the number of steps going eastward (negative values mean westward) and the number of steps southward (or negative meaning to the north).\n",
    "\n",
    "* **make_cardinal_distance_list()** creates a list with precalculated cardinal distances for all points on the board. Very fast!\n",
    "\n",
    "* **cardinal_distance_list[start_point][end_point]** is a list, not a function. It is created by `make_cardinal_distance_list` and outputs the cardinal distances as steps east and steps south as explained above.\n",
    "\n",
    "* **destination_cell(start_point, move_distance)** is the reverse of the above functions. The inputs are a start point and a tuple representing steps eastward and southward, `(dist_west2east , dist_north2south)`, and the output is the end point on the map. All points are in the raw index fashion used on the game board.\n",
    "\n",
    "* **distance_kernel(maxdist)** creates a matrix that can be used in a convulution with the game board that sums all squares with distance `maxdist`\n",
    "\n",
    "* **halite_sum_matrix(halitedata, maxdist)** with an input list of halite values for the 441 cells on the board, this function returns the sum of all halite within `maxdist` of each cell \n"
   ]
  },
  {
   "cell_type": "code",
   "execution_count": 6,
   "metadata": {},
   "outputs": [],
   "source": [
    "# make a distance list that preserves the shortest travel route\n",
    "\n",
    "\n",
    "def cardinal_distance(start_point,end_point,boardsize=21):\n",
    "    # returns the distance needed to travel across a wrapped board of size [boardsize] where the \n",
    "    # first output is the west to east distance (or a negative value if faster to travel westbound)\n",
    "    # and the second output is the north to south distance (or a negative value if shorter to \n",
    "    # travel southbound.\n",
    "    #\n",
    "    # The inputs, start_point and end_point are expected to be integers where value zero is the northwest\n",
    "    # point on the board and value boardsize*boardsize-1 is the southeast point on the board.\n",
    "    \n",
    "    # Calculate the distance traveling east (1st element) or west (2nd element)\n",
    "    dist_west2east = ((end_point - start_point) % boardsize, \n",
    "                      (boardsize - ( (end_point - start_point) % boardsize) ))\n",
    "    # return the signed minimum distance, negative values means travel west\n",
    "    dist_west2east = min(dist_west2east)*(-1)**dist_west2east.index(min(dist_west2east))\n",
    "\n",
    "    # Calculate the distance traveling south (1st element) or north (2nd element)\n",
    "    dist_north2south = ((end_point//boardsize - start_point//boardsize) % boardsize, \n",
    "                        ( boardsize - ( (end_point//boardsize - start_point//boardsize) % boardsize) ))\n",
    "    # return the signed minimum distance, where negative values mean traveling north\n",
    "    dist_north2south = min(dist_north2south)*(-1)**dist_north2south.index(min(dist_north2south))\n",
    "\n",
    "    return dist_west2east, dist_north2south\n",
    "\n",
    "def make_cardinal_distance_list(boardsize=21):\n",
    "    startpoints = np.arange(boardsize**2)\n",
    "    endpoints = np.arange(boardsize**2)\n",
    "    cardinal_distance_list = []\n",
    "    for start_point in startpoints:\n",
    "        cardinal_distance_list.append([cardinal_distance(start_point,end_point) for end_point in endpoints])\n",
    "    return cardinal_distance_list\n",
    "\n",
    "cardinal_distance_list = make_cardinal_distance_list()\n",
    "\n",
    "def destination_cell(start_point, move_distance = (0,0), boardsize=21):\n",
    "    # returns the destination cell for a move distance tuple orderd in terms of\n",
    "    # (move_west2east, move_north2south) so that a value of (1,3) moves on cell east and 3 cells\n",
    "    # south and a value of (-3,-2) represents the cell that is 3 cells west and 2 cells to the north\n",
    "    return ((start_point + move_distance[0]) % boardsize + \n",
    "            ((start_point//boardsize + move_distance[1])%boardsize) * boardsize)\n",
    "    \n"
   ]
  },
  {
   "cell_type": "code",
   "execution_count": 7,
   "metadata": {},
   "outputs": [],
   "source": [
    "def distance_kernel(maxdist):\n",
    "    # Creates a matrix of ones where the distance from center is less than\n",
    "    # or equal to maxdist \n",
    "    # e.g. distance_kernel(2) = [[0,1,0],[1,1,1],[0,1,0]]\n",
    "    kernelmat = np.zeros((1+2*maxdist,1+2*maxdist))\n",
    "    for i in range(1+2*maxdist):\n",
    "        for j in range(1+2*maxdist):\n",
    "            if abs(i-maxdist)+abs(j-maxdist)<=maxdist:\n",
    "                kernelmat[i,j] = 1\n",
    "    return kernelmat\n",
    "\n",
    "def halite_sum_matrix(halite_data, maxdist = 0, boardsize = 21):\n",
    "    # Creates a matrix from the stepdata representing the board\n",
    "    # where each cell has the sum of all halite within maxdist.\n",
    "    # The halite data is the raw format =(stepdata[0]['observation']['halite'])\n",
    "    # halite_sum_matrix(stepdata, maxdist = 0, boardsize = 21)\n",
    "    halite_matrix = np.reshape(halite_data,(boardsize,boardsize))\n",
    "    return signal.convolve2d(halite_matrix, \n",
    "                             distance_kernel(maxdist), \n",
    "                             mode='same', boundary='wrap', fillvalue=0)\n",
    "\n",
    "def halite_sum_array(halite_data, maxdist = 0, boardsize = 21):\n",
    "    return np.reshape(halite_sum_matrix(halite_data, maxdist, boardsize),(boardsize*boardsize))"
   ]
  },
  {
   "cell_type": "markdown",
   "metadata": {},
   "source": [
    "### Create pattern recognition scheme for distance of 3 around a ship\n",
    "\n",
    "The space around a ship has 24 cells within a distance of three. We will number them in the order below so that the smallest numbers represent the closest distance. The chart below shows the array indices used in saving the information.\n",
    "\n",
    " \n",
    "\n",
    "|   |   |   |   |   |   |   |\n",
    "|---|---|---|---|---|---|---|\n",
    "|   |   |   |13 |   |   |   |\n",
    "|   |   |24 | 5 |14 |   |   |\n",
    "|   |23 |12 | 1 | 6 |15 |   |\n",
    "|22 |11 | 4 | 0 | 2 | 7 |16 |\n",
    "|   |21 |10 | 3 | 8 |17 |   |\n",
    "|   |   |20 | 9 |18 |   |   |\n",
    "|   |   |   |19 |   |   |   |\n",
    "\n",
    "\n",
    "The features in this pattern will define the ships or shipyards that could be present:\n",
    "\n",
    "0. None\n",
    "1. Friendly shipyard\n",
    "2. Friendly ship\n",
    "3. Enemy shipyard\n",
    "4. \"Fat\" enemy ship carrying more halite\n",
    "5. Lean enemy ship carrying less or equal halite\n",
    "\n",
    "Since location zero has the ship in question, we will focus on the contents of the other 24 spaces within a distance of three. Every pattern can be represented by an integer between zero and 6^24 (approximately equal to the maximum 64 bit \"big int\" 2^63). We note that these patterns are functionally identical by symmetry and reflection. The following functions make these calculations:\n",
    "\n",
    "* **cells_in_distance(location, max_distance)** returns the index references for all cells within a specific distance from the location\n",
    "* **nearby_features(location, max_distance)** returns a 25-element `nearby_features_array` with the features labeled in the description above. For example, a value of 2 in array index 3 indicates that a friendly ship in immediately south\n",
    "* **rotational_equivalents(nearby_features_array)** returns the 8 features arrays that are rotationally equivalent to the `nearby_features_array`\n",
    "* **nearby_feature_code(nearby_features_array)** transforms a 25-element `nearby_features_array` to a unique 64-bit integer"
   ]
  },
  {
   "cell_type": "code",
   "execution_count": 8,
   "metadata": {},
   "outputs": [],
   "source": [
    "def cells_in_distance(location, max_distance=1):\n",
    "    # returns the index references for all cells within the specific distance\n",
    "    celllist = [location]\n",
    "    if max_distance>0:\n",
    "        # for each distance from 1 to max_distance, find all cells\n",
    "        for dist in range(1,1+max_distance):\n",
    "            # rotate around all the combinations of west-east and north-wouth adjustments that equal distance=dist\n",
    "            west2east = np.concatenate( (np.arange(0,dist,step=1),np.arange(dist,-dist,step=-1),np.arange(-dist,0,step=1)))\n",
    "            north2south = np.concatenate( (np.arange(-dist,dist,step=1),np.arange(dist,-dist,step=-1)))\n",
    "            for idx in range(len(west2east)):\n",
    "                celllist.append(destination_cell(location,( west2east[idx],north2south[idx])))\n",
    "    return celllist"
   ]
  },
  {
   "cell_type": "code",
   "execution_count": 9,
   "metadata": {},
   "outputs": [],
   "source": [
    "def nearby_features(ship_id, team, max_distance=3):\n",
    "    # outputs the pattern value for the distance around the ship\n",
    "    ship_location = stepdata[0]['observation']['players'][team][2][ship_id][0]\n",
    "    ship_halite = stepdata[0]['observation']['players'][team][2][ship_id][1]\n",
    "    nearby_cells = cells_in_distance(ship_location,max_distance)\n",
    "    nearby_features_array = np.zeros(shape=len(nearby_cells),dtype=np.uint64)\n",
    "    \n",
    "    # 1 - Friendly shipyard\n",
    "    for shipyard_location in list(stepdata[0]['observation']['players'][team][1].values()):\n",
    "        if shipyard_location in nearby_cells:\n",
    "            nearby_features_array[nearby_cells.index(shipyard_location)] = 1\n",
    "        \n",
    "    # 2 - Friendly ships\n",
    "    friendly_ship_locations = [shipdata[0] for shipdata in list(stepdata[0]['observation']['players'][team][2].values())]\n",
    "    for friendly_ship_location in friendly_ship_locations:\n",
    "        if friendly_ship_location in nearby_cells and friendly_ship_location is not ship_location:\n",
    "            nearby_features_array[nearby_cells.index(friendly_ship_location)] = 2\n",
    "    \n",
    "    \n",
    "    for other_team in range(4):\n",
    "        if other_team is not team:\n",
    "    \n",
    "            # 3 - Enemy shipyards\n",
    "            for shipyard_location in list(stepdata[0]['observation']['players'][other_team][1].values()):\n",
    "                if shipyard_location in nearby_cells:\n",
    "                    nearby_features_array[nearby_cells.index(shipyard_location)] = 3\n",
    "                    \n",
    "            # 4 - Enemy fat ships\n",
    "            enemy_fleet_data = list(stepdata[0]['observation']['players'][other_team][2].values())\n",
    "            for enemy_ship_data in enemy_fleet_data:\n",
    "                if (enemy_ship_data[0] in nearby_cells) and (enemy_ship_data[1] > ship_halite):\n",
    "                    nearby_features_array[nearby_cells.index(enemy_ship_data[0])] = 4\n",
    "                    \n",
    "            # 5 - Enemy lean ships\n",
    "            for enemy_ship_data in enemy_fleet_data:\n",
    "                if (enemy_ship_data[0] in nearby_cells) and (enemy_ship_data[1] <= ship_halite):\n",
    "                    nearby_features_array[nearby_cells.index(enemy_ship_data[0])] = 5\n",
    "                    \n",
    "    return nearby_features_array"
   ]
  },
  {
   "cell_type": "code",
   "execution_count": 10,
   "metadata": {},
   "outputs": [],
   "source": [
    "def rotational_equivalents(nearby_features_array):\n",
    "    # returns indices for \"nearby_features\" indices that are strategically equivalent, \n",
    "    # simply rotated or reflected game boards\n",
    "    # order of manipulations is: rotation counter-clockwise once, twice, three-times, \n",
    "    # mirror left/right, mirror up/down, mirror nortwest/southest, mirror northeast/southwest\n",
    "    \n",
    "    rotations = np.array([[0,0,0,0,0,0,0,0],\n",
    "                            [1,2,3,4,1,3,2,4],\n",
    "                            [2,3,4,1,4,2,1,3],\n",
    "                            [3,4,1,2,3,1,4,2],\n",
    "                            [4,1,2,3,2,4,3,1],\n",
    "                            [5,7,9,11,5,9,7,11],\n",
    "                            [6,8,10,12,12,8,6,10],\n",
    "                            [7,9,11,5,11,7,5,9],\n",
    "                            [8,10,12,6,10,6,12,8],\n",
    "                            [9,11,5,7,9,5,11,7],\n",
    "                            [10,12,6,8,8,12,10,6],\n",
    "                            [11,5,7,9,7,11,9,5],\n",
    "                            [12,6,8,10,6,10,8,12],\n",
    "                            [13,16,19,22,13,19,16,22],\n",
    "                            [14,17,20,23,24,18,15,21],\n",
    "                            [15,18,21,24,23,17,14,20],\n",
    "                            [16,19,22,13,22,16,13,19],\n",
    "                            [17,20,23,14,21,15,24,18],\n",
    "                            [18,21,24,15,20,14,23,17],\n",
    "                            [19,22,13,16,19,13,22,16],\n",
    "                            [20,23,14,17,18,24,21,15],\n",
    "                            [21,24,15,18,17,23,20,14],\n",
    "                            [22,13,16,19,16,22,19,13],\n",
    "                            [23,14,17,20,15,21,18,24],\n",
    "                            [24,15,18,21,14,20,17,23]])\n",
    "    \n",
    "    rotational_indices = []\n",
    "    for r in range(8):\n",
    "        rotational_indices.append( [nearby_features_array[rotations[idx,r]] for idx in range(25)] )\n",
    "    \n",
    "    return rotational_indices"
   ]
  },
  {
   "cell_type": "code",
   "execution_count": 11,
   "metadata": {},
   "outputs": [],
   "source": [
    "# transform the nearby cells into a single integer\n",
    "def nearby_feature_code(nearby_features_array):\n",
    "    return np.sum( np.multiply(nearby_features_array[1:],     # skip first element which contains the ship itself\n",
    "                               np.power(6, np.arange(0,24,dtype=np.uint64))))"
   ]
  },
  {
   "cell_type": "markdown",
   "metadata": {},
   "source": [
    "### Examples of the helpful functions"
   ]
  },
  {
   "cell_type": "code",
   "execution_count": 12,
   "metadata": {},
   "outputs": [
    {
     "name": "stdout",
     "output_type": "stream",
     "text": [
      "The distance from cell#19 to cell#45\n",
      "(5, 2)\n",
      " \n",
      "The distance from cell#45 to cell#19\n",
      "(-5, -2)\n"
     ]
    }
   ],
   "source": [
    "# Examples of cardinal_distance_list\n",
    "\n",
    "# start at point (0,19), aka index #19, and end at point (2,3), aka index #45\n",
    "start_point = 19\n",
    "end_point = 45\n",
    "print('The distance from cell#19 to cell#45')\n",
    "print(cardinal_distance_list[start_point][end_point])\n",
    "print(' ')\n",
    "\n",
    "# start at point (2,23), aka index #45, and end at point (0,19), aka index #19\n",
    "start_point = 45\n",
    "end_point = 19\n",
    "print('The distance from cell#45 to cell#19')\n",
    "print(cardinal_distance_list[start_point][end_point])"
   ]
  },
  {
   "cell_type": "code",
   "execution_count": 13,
   "metadata": {},
   "outputs": [
    {
     "name": "stdout",
     "output_type": "stream",
     "text": [
      "Destination that starts from cell 19 and moves 5 cells east and 2 cells south:\n",
      "45\n"
     ]
    }
   ],
   "source": [
    "# Example of destination_cell\n",
    "\n",
    "start_point = 19 # start at cell 19\n",
    "move_dist = (5,2) # move 5 cells eastward and 2 cells southward\n",
    "\n",
    "print('Destination that starts from cell 19 and moves 5 cells east and 2 cells south:')\n",
    "print(destination_cell(start_point,move_dist))"
   ]
  },
  {
   "cell_type": "code",
   "execution_count": 15,
   "metadata": {},
   "outputs": [
    {
     "name": "stdout",
     "output_type": "stream",
     "text": [
      "Using game file:\n",
      "../kaggle_games/run_31/1176808.json\n",
      " \n",
      "At step 109 the halite looks like this\n",
      "[[ 27.6   0.    0.   16.4   0.   15.5  15.9   0.    0.    0.    0.    0.    0.    0.   66.3  42.    0.   17.7   0.    0.   26.6]\n",
      " [ 24.   25.8   0.   18.2  17.5   0.    0.    0.    0.   17.3   0.   16.7   0.    0.    0.    0.   18.5  16.4   0.   19.3  18.5]\n",
      " [ 27.5  23.8   0.    0.   18.   16.4   0.    0.   58.1   0.    0.    0.   19.5   0.    0.   14.4  18.    0.    0.   21.7  60.9]\n",
      " [  0.    0.   54.3  14.2   0.    0.    0.   69.3   0.    0.    0.    0.    0.   16.2   0.    0.    0.   73.9  70.3   0.    0. ]\n",
      " [  0.    0.    0.    0.    0.    0.    0.    0.    0.   63.    0.   25.7   0.    0.    0.    0.    0.    0.    0.    0.    0. ]\n",
      " [  0.    0.   26.8   0.   23.8   0.    0.   22.   49.    0.   31.4   0.   21.5  18.2   0.    0.   78.4   0.   70.4   0.    0. ]\n",
      " [  0.   23.6   0.    0.    0.    0.    0.   16.3   0.    0.   33.2   0.    0.   17.    0.    0.    0.    0.    0.   65.7   0. ]\n",
      " [  0.   11.7   6.2  15.5   0.   15.6  15.7  25.4   0.    0.    0.    0.    0.   19.1  16.   19.    0.  104.3  89.9  51.2   0. ]\n",
      " [ 26.9  29.7  26.8   0.    0.   27.8  25.2   0.   66.    0.   20.8   0.   15.2   0.   15.1  16.9   0.    0.   98.6  45.1  35.5]\n",
      " [  0.    0.    0.    0.   39.3  56.8   0.   51.2  59.7  30.5  21.1  29.9  18.1  20.9   0.   19.   56.4   0.    0.    0.    0. ]\n",
      " [  0.    0.    0.  104.9  86.    0.    0.   44.6   0.    0.    0.   16.2   0.   56.9   0.    0.   14.9  32.4   0.    0.    0. ]\n",
      " [  0.    0.    0.    0.   27.9  53.6   0.   52.2  41.3  33.3  22.9  32.7  16.5  36.4   0.   32.4  41.5   0.    0.    0.    0. ]\n",
      " [ 23.5  21.7  58.8   0.    0.   63.1  30.3   0.   46.1   0.   17.2   0.   14.4   0.   25.1  20.6   0.    0.   39.8  40.6  23.9]\n",
      " [  0.   34.8  16.6  29.6   0.   35.8  12.   18.7   0.    0.    0.    0.    0.   24.5  27.4  26.2   0.   45.5  27.7  27.8   0. ]\n",
      " [  0.   30.3   0.    0.    0.    0.    0.   36.5   0.    0.   39.3   0.    0.   29.1   0.    0.    0.    0.    0.   58.9   0. ]\n",
      " [  0.    0.   26.    0.   15.3  61.7   0.   75.5  29.3   0.   70.9   0.   36.2  39.1   0.    0.   42.1   0.   91.    0.    0. ]\n",
      " [  0.    0.    0.    0.    0.    0.    0.    0.    0.   60.4   0.   58.    0.    0.    0.    0.    0.    0.    0.    0.    0. ]\n",
      " [  0.    0.   35.   14.4   0.    0.    0.   72.    0.    0.    0.    0.    0.   90.7   0.    0.    0.   58.9  55.1   0.    0. ]\n",
      " [ 30.   14.8   0.    0.    7.4  98.2   0.    0.   45.6   0.    0.    0.   18.7   0.    0.   39.8  55.5   0.    0.   14.6  13.4]\n",
      " [  0.   31.2   0.   17.5  17.3   0.    0.    0.    0.   17.    0.   17.3   0.    0.    0.    0.   72.1  23.9   0.   37.5  13. ]\n",
      " [ 24.1   0.    0.   16.8   0.   19.   17.8   0.    0.    0.    0.    0.    0.    0.   49.7  55.6   0.   21.1   0.    0.   44.5]]\n",
      " \n",
      "The sum of halite within distance 1\n",
      "[[102.3  53.4  16.4  51.4  49.4  50.4  49.3  15.9   0.   17.3   0.   16.7   0.   66.3 158.  163.9  78.2  55.2  17.7  46.  117.2]\n",
      " [123.5  73.6  44.1  52.1  53.7  49.4  15.9   0.   75.4  17.3  34.   16.7  36.2   0.   66.3  74.9  52.8  52.6  35.7  59.5 149.3]\n",
      " [136.2  77.2  78.1  50.4  51.8  34.4  16.4 127.3  58.1  75.4   0.   36.2  19.5  35.8  14.4  32.4  50.9 108.2  91.9 101.8 128.6]\n",
      " [ 27.5  78.1  68.5  68.5  32.2  16.4  69.3  69.3 127.3  63.    0.   25.7  35.8  16.2  16.2  14.4  91.8 144.1 144.1  91.9  60.9]\n",
      " [  0.    0.   81.1  14.2  23.8   0.    0.   91.3 112.   63.  120.1  25.7  47.2  34.4   0.    0.   78.4  73.9 140.7   0.    0. ]\n",
      " [  0.   50.5  26.8  50.6  23.8  23.8  22.   87.3  71.  143.4  64.6  78.6  39.7  56.7  18.2  78.4  78.4 148.8  70.4 136.2   0. ]\n",
      " [ 23.6  35.3  56.7  15.5  23.8  15.6  31.9  63.7  65.3  33.2  64.6  33.2  38.5  54.3  33.   19.   78.4 104.3 226.1 116.9  65.7]\n",
      " [ 38.6  71.2  60.3  21.8  31.1  59.   81.8  57.3  91.4   0.   54.    0.   34.4  52.2  69.2  51.9 123.3 194.2 343.9 251.9  86.7]\n",
      " [ 92.2  95.1  62.8  42.4  67.1 125.3  68.6 167.8 125.8 117.3  41.9  65.9  33.4  70.3  48.   70.   73.3 202.9 233.6 230.4 107.6]\n",
      " [ 26.9  29.7  26.8 144.2 182.1 123.9 133.2 155.5 207.5 111.3 102.2  85.3  84.2  95.9  55.   92.4  90.4  88.9  98.6  45.1  35.5]\n",
      " [  0.    0.  104.9 190.9 258.1 196.4  44.6 148.1 145.6  63.8  60.2  78.8 107.7 114.2  56.9  66.3 145.3  47.4  32.4   0.    0. ]\n",
      " [ 23.5  21.7  58.8 132.8 167.5 144.6 136.2 138.1 172.9  97.5 106.1  88.3 100.  109.8  93.8  94.5  88.8  74.   39.8  40.6  23.9]\n",
      " [ 69.1 138.8  97.1  88.4  91.  182.9 105.4 147.4  87.4  96.6  40.1  64.4  30.9 100.3  73.  104.3  62.1  85.3 108.  132.   88. ]\n",
      " [ 58.3 103.3 139.8  46.2  65.4 110.9  96.9  67.3  64.8   0.   56.5   0.   38.9  80.9 103.2  74.2  71.8  73.2 140.8 155.   51.7]\n",
      " [ 30.3  65.   72.8  29.6  15.3  97.6  48.5 130.8  65.8  39.3 110.2  39.3  65.3  92.7  56.4  26.2  42.1  45.5 177.6  86.7  58.9]\n",
      " [  0.   56.2  26.   41.2  77.   77.  137.3 141.4 104.9 160.6 110.2 165.2  75.3 104.4  39.1  42.1  42.1 133.1  91.  149.9   0. ]\n",
      " [  0.    0.   61.   14.4  15.3  61.7   0.  147.6  89.7  60.4 189.3  58.   94.3 129.8   0.    0.   42.1  58.9 146.1   0.    0. ]\n",
      " [ 30.   49.8  49.4  49.4  21.8  98.2  72.   72.  117.6  60.4   0.   58.  109.4  90.7  90.7  39.8 114.4 114.  114.   69.7  13.4]\n",
      " [ 58.2  76.   49.8  39.3 122.8 105.6  98.2 117.6  45.6  62.6   0.   36.1  18.7 109.4  39.8  95.3 167.4 138.3  69.7  65.4  71. ]\n",
      " [ 98.4  46.   48.8  51.6  42.2 134.5  17.8   0.   62.6  17.   34.3  17.3  36.1   0.   49.7 167.5 151.5 117.1  61.4  65.1 108.4]\n",
      " [ 96.2  55.4  16.8  50.8  53.1  52.3  52.7  17.8   0.   17.    0.   17.3   0.   49.7 171.6 147.3 148.8  62.7  21.1  81.9 108.3]]\n"
     ]
    }
   ],
   "source": [
    "print('Using game file:')\n",
    "print(select_episodes_df.iloc[0]['file_location'])\n",
    "print(' ')\n",
    "\n",
    "with open(select_episodes_df.iloc[0]['file_location']) as json_file:\n",
    "    gamedata = json.load(json_file)\n",
    "\n",
    "print('At step 109 the halite looks like this')\n",
    "stepnum = 109\n",
    "boardsize = 21\n",
    "stepdata = gamedata['steps'][stepnum]\n",
    "halite_data = stepdata[0]['observation']['halite']\n",
    "print(np.reshape(halite_data,(boardsize,boardsize)))\n",
    "print(' ')\n",
    "print('The sum of halite within distance 1')\n",
    "print(halite_sum_matrix(halite_data, maxdist = 1, boardsize = 21))"
   ]
  },
  {
   "cell_type": "markdown",
   "metadata": {},
   "source": [
    "# Download data for one game\n",
    "\n",
    "To test out the code, here is an example of a download of the steps and ships for one game."
   ]
  },
  {
   "cell_type": "code",
   "execution_count": null,
   "metadata": {},
   "outputs": [],
   "source": [
    "np.power(6, np.arange(0,24,dtype=np.uint64))"
   ]
  },
  {
   "cell_type": "code",
   "execution_count": null,
   "metadata": {},
   "outputs": [],
   "source": [
    "board = Board(gamedata['steps'][stepnum][0]['observation'],gamedata['configuration'])\n",
    "print(board)"
   ]
  },
  {
   "cell_type": "code",
   "execution_count": null,
   "metadata": {},
   "outputs": [],
   "source": [
    "len(nearby_cells_contents[1:])"
   ]
  },
  {
   "cell_type": "code",
   "execution_count": null,
   "metadata": {},
   "outputs": [],
   "source": [
    "np.sum( np.multiply(nearby_cells_contents[1:],\n",
    "                               np.power(6, np.arange(0,24,dtype=np.uint64))))"
   ]
  },
  {
   "cell_type": "code",
   "execution_count": null,
   "metadata": {},
   "outputs": [],
   "source": [
    "[shipdata[0] for shipdata in list(stepdata[0]['observation']['players'][team][2].values())]"
   ]
  },
  {
   "cell_type": "code",
   "execution_count": null,
   "metadata": {},
   "outputs": [],
   "source": [
    "friendly_ship_locations = [shipdata[0] for shipdata in list(stepdata[0]['observation']['players'][team][2].values())]\n",
    "for friendly_ship_location in friendly_ship_locations:\n",
    "    if friendly_ship_location in nearby_cells and friendly_ship_location is not ship_location:\n",
    "        nearby_cells_contents[nearby_cells.index(friendly_ship_location)] = 2\n",
    "nearby_cells_contents"
   ]
  },
  {
   "cell_type": "code",
   "execution_count": null,
   "metadata": {},
   "outputs": [],
   "source": [
    "stepdata[0]['observation']['players']"
   ]
  },
  {
   "cell_type": "code",
   "execution_count": null,
   "metadata": {},
   "outputs": [],
   "source": [
    "ship_data = list(stepdata[0]['observation']['players'][0][2].values())[0]\n",
    "print(ship_data)"
   ]
  },
  {
   "cell_type": "code",
   "execution_count": null,
   "metadata": {},
   "outputs": [],
   "source": [
    "stepnum = 109\n",
    "stepdata = gamedata['steps'][stepnum]\n",
    "\n",
    "\n",
    "#old_ship_names = new_ship_names.copy()\n",
    "#old_ship_location = new_ship_location.copy()\n",
    "#old_ship_halite = new_ship_halite.copy()\n",
    "new_ship_data = list(stepdata[0]['observation']['players'][0][2].values())\n",
    "new_ship_names = list(stepdata[0]['observation']['players'][0][2].keys())\n",
    "new_ship_location = [sdata[0] for sdata in new_ship_data]\n",
    "new_ship_halite = [sdata[1] for sdata in new_ship_data]"
   ]
  },
  {
   "cell_type": "code",
   "execution_count": null,
   "metadata": {},
   "outputs": [],
   "source": [
    "new_ship_data"
   ]
  },
  {
   "cell_type": "markdown",
   "metadata": {},
   "source": [
    "## Build data for each episode\n",
    "\n",
    "The target variable we hope to predict is ship value. This is defined as the quantity of halite delivered to shipyards, with an additional credit of +500 for destroying a shipyard or saving a friendly shipyard\n",
    "\n",
    "We could derive a formula or calibrate this to actual game data as a function of the following factors:\n",
    "\n",
    "Factors that affect ship value\n",
    "* steps left in game\n",
    "* total halite on the board\n",
    "* halite in reachable distance on board\n",
    "* location of the ship\n",
    "* ability to defend loss of shipyard\n",
    "* expected life before being destroyed by enemy\n",
    "* ability to destroy enemy shipyard (+500)\n",
    "* ability to protect home base (+500)\n"
   ]
  },
  {
   "cell_type": "markdown",
   "metadata": {},
   "source": [
    "### characteristics each step\n",
    "* add one if alive another step\n",
    "* add as much halite was produced\n",
    "* add enemy ship kills\n",
    "* add shipyard protection kill\n",
    "* mark if killed enemy shipyard\n",
    "* given halite in distance 1,2,3,4,5\n",
    "* given enemy ships in distance 1,2,3\n",
    "* give friendly ships in distance 1,2,3\n",
    "* give closest distance to friendly shipyard\n",
    "* total halite on board\n",
    "* give board patterns"
   ]
  },
  {
   "cell_type": "markdown",
   "metadata": {},
   "source": [
    "| Type of Variable           | Name               | type   | description                                              |\n",
    "| -------------------------- | ------------------ | ------ | -------------------------------------------------------- |\n",
    "| Identification             | episode            | int    | episode ID number                                        |\n",
    "|                            | step               | it     | step number (0-399)                                      |\n",
    "|                            | agentID            | int    | agentID number for this step                             |\n",
    "|                            | shipID             | string | shipID string used in game                               |\n",
    "|                            | altShipID          | int    | alternate numerical ID for each ship                     |\n",
    "| Achievement                | futureLife         | int    | number of future steps ship stays alive                  |\n",
    "|                            | haliteDelivered    | float  | quantity of halite delivered to friendly base            |\n",
    "|                            | shipKills          | int    | number of enemy ships destroyed                          |\n",
    "|                            | shipyardKill       | int    | \\=1 if destroyed enemy shipyard                          |\n",
    "|                            | shipyardProtect    | int    | number of times killed enemy attacking friendly shipyard |\n",
    "| Current: Halite on Board   | haliteBoard        | float  | sum of all halite on board                               |\n",
    "|                            | haliteDist0        | float  | total quantity of halite at distance 0                   |\n",
    "|                            | haliteDist1        | float  | total quantity of halite at distance 1                   |\n",
    "|                            | haliteDist2        | float  | total quantity of halite at distance 2                   |\n",
    "|                            | haliteDist3        | float  | total quantity of halite at distance 3                   |\n",
    "|                            | haliteDist4        | float  | total quantity of halite at distance 4                   |\n",
    "|                            | haliteDist5        | float  | total quantity of halite at distance 5                   |\n",
    "|                            | haliteDist6        | float  | total quantity of halite at distance 6                   |\n",
    "| Current: Fat Enemies Near  | enemyFatDist1      | int    | number enemy ships carrying more halite at distance 1    |\n",
    "|                            | enemyFatDist2      | int    | number enemy ships carrying more halite at distance 2    |\n",
    "|                            | enemyFatDist3      | int    | number enemy ships carrying more halite at distance 3    |\n",
    "| Current: Lean Enemies Near | enemyLeanDistance1 | int    | number enemy ships carrying more halite at distance 1    |\n",
    "|                            | enemyLeanDist2     | int    | number enemy ships carrying more halite at distance 2    |\n",
    "|                            | enemyLeanDist3     | int    | number enemy ships carrying more halite at distance 3    |"
   ]
  },
  {
   "cell_type": "code",
   "execution_count": null,
   "metadata": {},
   "outputs": [],
   "source": [
    "select_episodes_df.iloc[0]['file_location']"
   ]
  },
  {
   "cell_type": "code",
   "execution_count": null,
   "metadata": {},
   "outputs": [],
   "source": [
    "with open(select_episodes_df.iloc[0]['file_location']) as json_file:\n",
    "    gamedata = json.load(json_file)"
   ]
  },
  {
   "cell_type": "code",
   "execution_count": null,
   "metadata": {},
   "outputs": [],
   "source": [
    "gamedata['configuration']"
   ]
  },
  {
   "cell_type": "code",
   "execution_count": null,
   "metadata": {},
   "outputs": [],
   "source": [
    "for stepnum,stepdata in enumerate(gamedata['steps']):\n",
    "    #stepdata[0]['observation']['players'][3]  # player 4 ships\n",
    "    #p4shiplist.append()"
   ]
  },
  {
   "cell_type": "code",
   "execution_count": null,
   "metadata": {},
   "outputs": [],
   "source": [
    "stepnum = 109\n",
    "stepdata = gamedata['steps'][stepnum]\n",
    "old_ship_names = new_ship_names.copy()\n",
    "old_ship_location = new_ship_location.copy()\n",
    "old_ship_halite = new_ship_halite.copy()\n",
    "new_ship_data = list(stepdata[0]['observation']['players'][0][2].values())\n",
    "new_ship_names = list(stepdata[0]['observation']['players'][0][2].keys())\n",
    "new_ship_location = [sdata[0] for sdata in new_ship_data]\n",
    "new_ship_halite = [sdata[1] for sdata in new_ship_data]"
   ]
  },
  {
   "cell_type": "code",
   "execution_count": null,
   "metadata": {},
   "outputs": [],
   "source": [
    "halite_matrix = np.reshape(gamedata['steps'][stepnum][0]['observation']['halite'], \n",
    "                           (gamedata['configuration']['size'],\n",
    "                            gamedata['configuration']['size']))"
   ]
  },
  {
   "cell_type": "code",
   "execution_count": null,
   "metadata": {},
   "outputs": [],
   "source": [
    "# we can use the SDK if helpful\n",
    "environment = make(\"halite\", configuration={\"size\": 21, \"startingHalite\": 500})\n",
    "agent_count = 4\n",
    "environment.reset(agent_count)\n",
    "state = environment.state[0]\n",
    "\n",
    "board = Board(gamedata['steps'][stepnum][0]['observation'],gamedata['configuration'])\n"
   ]
  },
  {
   "cell_type": "code",
   "execution_count": null,
   "metadata": {},
   "outputs": [],
   "source": [
    "print(board)"
   ]
  },
  {
   "cell_type": "code",
   "execution_count": null,
   "metadata": {},
   "outputs": [],
   "source": [
    "print(board.ships)\n",
    "print(board.ships['3-1'].position)"
   ]
  },
  {
   "cell_type": "code",
   "execution_count": null,
   "metadata": {},
   "outputs": [],
   "source": [
    "boardsize = 21\n",
    "enemy_ship_carry = np.zeros(boardsize*boardsize,dtype=int)\n",
    "playerlist = [0,1,2,3]\n",
    "current_player = 2\n",
    "enemy_players = playerlist.copy()\n",
    "enemy_players.remove(current_player)\n",
    "for player in enemy_players:\n",
    "    for shipdata in list(stepdata[0]['observation']['players'][0][2].values()):\n",
    "        enemy_ship_carry[shipdata[0]] = shipdata[1]"
   ]
  },
  {
   "cell_type": "code",
   "execution_count": null,
   "metadata": {},
   "outputs": [],
   "source": [
    "enemy_carry_matrix = np.reshape(enemy_ship_carry,(boardsize,boardsize))\n",
    "enemy_carry_matrix"
   ]
  },
  {
   "cell_type": "code",
   "execution_count": null,
   "metadata": {},
   "outputs": [],
   "source": [
    "# CODE TESTING"
   ]
  },
  {
   "cell_type": "code",
   "execution_count": null,
   "metadata": {},
   "outputs": [],
   "source": [
    "A = np.array([[1,2,3,4,5],[0,1,0,1,0],[0,2,4,6,8]])\n",
    "B = np.array([[0,1,0],[1,1,1],[0,1,0]])\n",
    "print(A)\n",
    "print(B)"
   ]
  },
  {
   "cell_type": "code",
   "execution_count": null,
   "metadata": {},
   "outputs": [],
   "source": [
    "signal.convolve2d(A, B, mode='same', boundary='wrap', fillvalue=0)"
   ]
  },
  {
   "cell_type": "markdown",
   "metadata": {},
   "source": [
    "board patterns\n",
    "\n",
    "how many squares at distane one could be covered by lean enemies?\n",
    "\n"
   ]
  },
  {
   "cell_type": "code",
   "execution_count": null,
   "metadata": {},
   "outputs": [],
   "source": [
    "def cells_within_dist(cell_index,maxdist=1,boardsize=21):\n",
    "    close_indices = np.zeros(maxdist**2 + (maxdist-1)**2)\n",
    "    for distance in range(maxdist):\n",
    "        \n",
    "    "
   ]
  },
  {
   "cell_type": "code",
   "execution_count": null,
   "metadata": {},
   "outputs": [],
   "source": [
    "stepdata[1]['action']"
   ]
  },
  {
   "cell_type": "code",
   "execution_count": null,
   "metadata": {},
   "outputs": [],
   "source": [
    "stepdata[2]['action']"
   ]
  },
  {
   "cell_type": "code",
   "execution_count": null,
   "metadata": {},
   "outputs": [],
   "source": [
    "stepdata[3]['action']"
   ]
  },
  {
   "cell_type": "code",
   "execution_count": null,
   "metadata": {},
   "outputs": [],
   "source": [
    "stepdata[0]['observation']['players'][3]"
   ]
  },
  {
   "cell_type": "code",
   "execution_count": null,
   "metadata": {},
   "outputs": [],
   "source": [
    "halite_maps = np.zeros((21,21,400),dtype=int)"
   ]
  },
  {
   "cell_type": "code",
   "execution_count": null,
   "metadata": {},
   "outputs": [],
   "source": [
    "stepnum = 108\n",
    "stepdata = gamedata['steps'][stepnum]"
   ]
  },
  {
   "cell_type": "code",
   "execution_count": null,
   "metadata": {},
   "outputs": [],
   "source": [
    "# list of ships\n",
    "list(stepdata[0]['observation']['players'][3][2].keys())"
   ]
  },
  {
   "cell_type": "code",
   "execution_count": null,
   "metadata": {},
   "outputs": [],
   "source": [
    "stepdata_old = gamedata['steps'][6]"
   ]
  },
  {
   "cell_type": "code",
   "execution_count": null,
   "metadata": {},
   "outputs": [],
   "source": [
    "stepdata[0]['observation']['players'][3][2]"
   ]
  },
  {
   "cell_type": "code",
   "execution_count": null,
   "metadata": {},
   "outputs": [],
   "source": [
    "gamedata['steps'][4][0]['observation']['players'][3][2]"
   ]
  }
 ],
 "metadata": {
  "environment": {
   "name": "pytorch-gpu.1-4.m49",
   "type": "gcloud",
   "uri": "gcr.io/deeplearning-platform-release/pytorch-gpu.1-4:m49"
  },
  "kernelspec": {
   "display_name": "Python 3",
   "language": "python",
   "name": "python3"
  },
  "language_info": {
   "codemirror_mode": {
    "name": "ipython",
    "version": 3
   },
   "file_extension": ".py",
   "mimetype": "text/x-python",
   "name": "python",
   "nbconvert_exporter": "python",
   "pygments_lexer": "ipython3",
   "version": "3.7.6"
  }
 },
 "nbformat": 4,
 "nbformat_minor": 4
}
