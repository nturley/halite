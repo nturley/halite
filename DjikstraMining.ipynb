{
 "cells": [
  {
   "cell_type": "markdown",
   "metadata": {},
   "source": [
    "# Djikstra Mining Algorithm\n",
    "## Problem Statement\n",
    "\n",
    "A ship has a start position at time t=0, which we will call Point P. It must deliver its cargo to a shipyard at time t=t_max. What moves should it take that will deposit the maximum halite to a shipyard?\n",
    "\n",
    "## Algorithm\n",
    "Djikstra's algorithm is similar to a breadth-first search that can bail out of subsolutions that are clearly not optimal. It exploits a few features of our solution space. Namely that the best path from point P to point Q that goes through R MUST include the best path from R to Q. This allows us to find the best path between all neighbors of known best solutions.\n",
    "\n",
    "A* would be lovely to use, but we don't have any way of knowing which actions will lead us toward the best solution so Djikstra's is the next best thing.\n",
    "\n",
    "Another thing that can make Djiktra's particularly efficient is if we can quickly score a neighboring solution to a solution with a known score. We use the fact that adding movement to a solution doesn't change the score. So most of the neighboring solutions don't even need to be scored again.\n",
    "\n",
    "## Description\n",
    "\n",
    "We start out by assigning empty solutions for our destinations at t=0 \n",
    "\n",
    "Every iteration we look at the best solution we found for our neighbors for t-1 as well as our current solution with an additional action of mining. One of those 5 solutions is the best solution for this position at t.\n",
    "\n",
    "This algorithm should work fine for multiple destinations, but will only work fine for multiple start positions if you are lucky enough that all routes you find don't share any mining destinations or occupy the same position at the same time.\n",
    "\n",
    "This is guaranteed to find the best mining route for one ship but is NOT guaranteed to find the global maximum for all ships. Which is probably acceptable. Simultaneously finding routes for all ships is possible but a little complicated to write.\n",
    "\n",
    "## Variants\n",
    "\n",
    "### Forward Solving\n",
    "This approach solves for the solution from the destination to the source which is a little backwards, but it means that each solution is valid if a hypothetical ship was at that location. Instead you could solve it forwards meaning that the solution is valid if a hypothetical destination was at that location.\n",
    "\n",
    "### Sparse Matrix\n",
    "Right now we consider this a dense matrix meaning that potentially all squares are minable, but it may be that this could be considered a sparse matrix and it only makes sense to mine on a small number of cells. In that case, we'd want to represent it as a graph instead of a lattice. Solutions would be much more compact because intermediate destinations in between mining locations are irrelevant. I think it would be more complicated to write but it may turn out to be more efficient.\n",
    " \n",
    "## Extensions\n",
    "Right now we take the first, highest scoring path we find. Instead we could collect all high scoring paths we find. This would give us a collection of equivalent scoring paths to choose based on other criteria (ship congestion, hazards, etc). This wouldn't add to the runtime complexity. Just extra bookkeeping."
   ]
  },
  {
   "cell_type": "markdown",
   "metadata": {},
   "source": [
    "This cell just sets up the initial board so we have an interesting problem to look at."
   ]
  },
  {
   "cell_type": "code",
   "execution_count": 154,
   "metadata": {},
   "outputs": [
    {
     "output_type": "execute_result",
     "data": {
      "text/plain": "<IPython.core.display.SVG object>",
      "image/svg+xml": "<svg xmlns=\"http://www.w3.org/2000/svg\" version=\"1.1\" height=\"221\" width=\"366\"><style>\n            line { stroke: black }\n            \n        </style><text x=\"40.0\" y=\"13\" text-anchor=\"middle\" font-weight=\"bold\">0</text><text x=\"80.0\" y=\"13\" text-anchor=\"middle\" font-weight=\"bold\">1</text><text x=\"120.0\" y=\"13\" text-anchor=\"middle\" font-weight=\"bold\">2</text><text x=\"160.0\" y=\"13\" text-anchor=\"middle\" font-weight=\"bold\">3</text><text x=\"200.0\" y=\"13\" text-anchor=\"middle\" font-weight=\"bold\">4</text><text x=\"13\" y=\"40.0\" text-anchor=\"end\" alignment-baseline=\"middle\" font-weight=\"bold\">0</text><text x=\"13\" y=\"80.0\" text-anchor=\"end\" alignment-baseline=\"middle\" font-weight=\"bold\">1</text><text x=\"13\" y=\"120.0\" text-anchor=\"end\" alignment-baseline=\"middle\" font-weight=\"bold\">2</text><text x=\"13\" y=\"160.0\" text-anchor=\"end\" alignment-baseline=\"middle\" font-weight=\"bold\">3</text><text x=\"13\" y=\"200.0\" text-anchor=\"end\" alignment-baseline=\"middle\" font-weight=\"bold\">4</text><line x1=\"20\" x2=\"20\" y1=\"5\" y2=\"221\"/><line x1=\"60\" x2=\"60\" y1=\"5\" y2=\"221\" stroke-dasharray=\"4 8\"/><line x1=\"100\" x2=\"100\" y1=\"5\" y2=\"221\" stroke-dasharray=\"4 8\"/><line x1=\"140\" x2=\"140\" y1=\"5\" y2=\"221\" stroke-dasharray=\"4 8\"/><line x1=\"180\" x2=\"180\" y1=\"5\" y2=\"221\" stroke-dasharray=\"4 8\"/><line x1=\"220\" x2=\"220\" y1=\"5\" y2=\"221\" stroke-dasharray=\"4 8\"/><line x1=\"5\" x2=\"221\" y1=\"20\" y2=\"20\"/><line x1=\"5\" x2=\"221\" y1=\"60\" y2=\"60\" stroke-dasharray=\"4 8\"/><line x1=\"5\" x2=\"221\" y1=\"100\" y2=\"100\" stroke-dasharray=\"4 8\"/><line x1=\"5\" x2=\"221\" y1=\"140\" y2=\"140\" stroke-dasharray=\"4 8\"/><line x1=\"5\" x2=\"221\" y1=\"180\" y2=\"180\" stroke-dasharray=\"4 8\"/><line x1=\"5\" x2=\"221\" y1=\"220\" y2=\"220\" stroke-dasharray=\"4 8\"/><text x=\"40.0\" y=\"32.0\" text-anchor=\"middle\">0</text><text x=\"40.0\" y=\"72.0\" text-anchor=\"middle\">0</text><text x=\"40.0\" y=\"112.0\" text-anchor=\"middle\">113</text><text x=\"40.0\" y=\"152.0\" text-anchor=\"middle\">0</text><text x=\"40.0\" y=\"192.0\" text-anchor=\"middle\">0</text><text x=\"80.0\" y=\"32.0\" text-anchor=\"middle\">0</text><text x=\"80.0\" y=\"72.0\" text-anchor=\"middle\">57</text><text x=\"80.0\" y=\"112.0\" text-anchor=\"middle\">2</text><text x=\"80.0\" y=\"152.0\" text-anchor=\"middle\">57</text><text x=\"80.0\" y=\"192.0\" text-anchor=\"middle\">0</text><text x=\"120.0\" y=\"32.0\" text-anchor=\"middle\">2</text><text x=\"120.0\" y=\"72.0\" text-anchor=\"middle\">105</text><text x=\"120.0\" y=\"112.0\" text-anchor=\"middle\">0</text><text x=\"120.0\" y=\"152.0\" text-anchor=\"middle\">103</text><text x=\"120.0\" y=\"192.0\" text-anchor=\"middle\">2</text><text x=\"160.0\" y=\"32.0\" text-anchor=\"middle\">0</text><text x=\"160.0\" y=\"72.0\" text-anchor=\"middle\">57</text><text x=\"160.0\" y=\"112.0\" text-anchor=\"middle\">2</text><text x=\"160.0\" y=\"152.0\" text-anchor=\"middle\">56</text><text x=\"160.0\" y=\"192.0\" text-anchor=\"middle\">0</text><text x=\"200.0\" y=\"32.0\" text-anchor=\"middle\">0</text><text x=\"200.0\" y=\"72.0\" text-anchor=\"middle\">0</text><text x=\"200.0\" y=\"112.0\" text-anchor=\"middle\">113</text><text x=\"200.0\" y=\"152.0\" text-anchor=\"middle\">0</text><text x=\"200.0\" y=\"192.0\" text-anchor=\"middle\">0</text><rect x=\"111\" y=\"115\" width=\"18\" height=\"18\" fill=\"red\"/><circle cx=\"200.0\" cy=\"204.0\" r=\"9\" fill=\"red\"/><text x=\"200.0\" y=\"209.0\" text-anchor=\"middle\" fill=\"white\">C</text><circle cx=\"241\" cy=\"10\" r=\"9\" fill=\"red\"/><text x=\"241\" y=\"15\" text-anchor=\"middle\" fill=\"white\">C</text><text x=\"253\" y=\"15\">0</text><text x=\"286\" y=\"15\" fill=\"red\">R: 4000</text></svg>"
     },
     "metadata": {},
     "execution_count": 154
    }
   ],
   "source": [
    "from kaggle_environments import make\n",
    "from kaggle_environments.envs.halite.helpers import *\n",
    "from board_viz import draw_board\n",
    "board_size = 5\n",
    "environment = make(\"halite\", configuration={\"size\": board_size, \"startingHalite\": 1000})\n",
    "agent_count = 1\n",
    "environment.reset(agent_count)\n",
    "state = environment.state[0]\n",
    "board = Board(state.observation, environment.configuration)\n",
    "s = list(board.ships.values())[0]\n",
    "s.next_action = ShipAction.CONVERT\n",
    "board = board.next()\n",
    "sy = list(board.shipyards.values())[0]\n",
    "sy.next_action = ShipyardAction.SPAWN\n",
    "board = board.next()\n",
    "s = list(board.ships.values())[0]\n",
    "s.next_action = ShipAction.NORTH\n",
    "board = board.next()\n",
    "s = list(board.ships.values())[0]\n",
    "s.next_action = ShipAction.EAST\n",
    "board = board.next()\n",
    "s = list(board.ships.values())[0]\n",
    "s.next_action = ShipAction.EAST\n",
    "board = board.next()\n",
    "s = list(board.ships.values())[0]\n",
    "s.next_action = ShipAction.NORTH\n",
    "board = board.next()\n",
    "\n",
    "draw_board(board)"
   ]
  },
  {
   "cell_type": "markdown",
   "metadata": {},
   "source": [
    "Now we use this board to calculate the best routes for every square on the board up to 15 turns away."
   ]
  },
  {
   "cell_type": "code",
   "execution_count": 155,
   "metadata": {
    "tags": []
   },
   "outputs": [
    {
     "output_type": "stream",
     "name": "stdout",
     "text": "------\nt = 1\n[' ', ' ', ' ', ' ', ' ']\n[' ', ' ', 'N', ' ', ' ']\n[' ', 'E', 'M', 'W', ' ']\n[' ', ' ', 'S', ' ', ' ']\n[' ', ' ', ' ', ' ', ' ']\n------\nt = 2\n['  ', '  ', 'NN', '  ', '  ']\n['  ', 'EN', 'MN', 'WN', '  ']\n['EE', 'ME', 'SN', 'MW', 'WW']\n['  ', 'SE', 'MS', 'SW', '  ']\n['  ', '  ', 'SS', '  ', '  ']\n------\nt = 3\n['   ', 'ENN', 'NMN', 'WNN', '   ']\n['EEN', 'EMN', 'MMN', 'WMN', 'WWN']\n['MEE', 'MME', 'SMN', 'MMW', 'MWW']\n['SEE', 'EMS', 'MMS', 'WMS', 'SWW']\n['   ', 'SSE', 'SMS', 'SSW', '   ']\n------\nt = 4\n['EENN', 'ENMN', 'NMMN', 'WNMN', 'WWNN']\n['NMEE', 'EMMN', 'MMMN', 'WMMN', 'NMWW']\n['MMEE', 'WMEE', 'SMMN', 'EMWW', 'MMWW']\n['SMEE', 'EMMS', 'MMMS', 'WMMS', 'SMWW']\n['SSEE', 'SEMS', 'SMMS', 'SWMS', 'SSWW']\n------\nt = 5\n['NNMEE', 'ENMMN', 'NMMMN', 'WNMMN', 'NNMWW']\n['NMMEE', 'EMMMN', 'MMMMN', 'WMMMN', 'NMMWW']\n['MMMEE', 'WMMEE', 'SMMMN', 'EMMWW', 'MMMWW']\n['SMMEE', 'EMMMS', 'MMMMS', 'WMMMS', 'SMMWW']\n['SSMEE', 'SEMMS', 'SMMMS', 'SWMMS', 'SSMWW']\n------\nt = 6\n['NNMMEE', 'ENMMMN', 'NMMMMN', 'WNMMMN', 'NNMMWW']\n['NMMMEE', 'MEMMMN', 'MMMMMN', 'MWMMMN', 'NMMMWW']\n['MMMMEE', 'WMMMEE', 'SMMMMN', 'EMMMWW', 'MMMMWW']\n['SMMMEE', 'MEMMMS', 'MMMMMS', 'MWMMMS', 'SMMMWW']\n['SSMMEE', 'SEMMMS', 'SMMMMS', 'SWMMMS', 'SSMMWW']\n------\nt = 7\n['NNMMMEE', 'NMEMMMN', 'NMMMMMN', 'NMWMMMN', 'NNMMMWW']\n['NMMMMEE', 'MMEMMMN', 'MMMMMMN', 'MMWMMMN', 'NMMMMWW']\n['MMMMMEE', 'WMMMMEE', 'SMMMMMN', 'EMMMMWW', 'MMMMMWW']\n['SMMMMEE', 'MMEMMMS', 'MMMMMMS', 'MMWMMMS', 'SMMMMWW']\n['SSMMMEE', 'SMEMMMS', 'SMMMMMS', 'SMWMMMS', 'SSMMMWW']\n------\nt = 8\n['NNMMMMEE', 'NMMEMMMN', 'NMMMMMMN', 'NMMWMMMN', 'NNMMMMWW']\n['NMMMMMEE', 'MMMEMMMN', 'MMMMMMMN', 'MMMWMMMN', 'NMMMMMWW']\n['MMMMMMEE', 'WMMMMMEE', 'SMMMMMMN', 'EMMMMMWW', 'MMMMMMWW']\n['SMMMMMEE', 'MMMEMMMS', 'MMMMMMMS', 'MMMWMMMS', 'SMMMMMWW']\n['SSMMMMEE', 'SMMEMMMS', 'SMMMMMMS', 'SMMWMMMS', 'SSMMMMWW']\n------\nt = 9\n['NNMMMMMEE', 'NMMMEMMMN', 'NMMMMMMMN', 'NMMMWMMMN', 'NNMMMMMWW']\n['EMMMEMMMN', 'MMMMEMMMN', 'MMMMMMMMN', 'MMMMWMMMN', 'WMMMWMMMN']\n['MMMMMMMEE', 'SMMMEMMMN', 'SMMMMMMMN', 'SMMMWMMMN', 'MMMMMMMWW']\n['SMMMMMMEE', 'MMMMEMMMS', 'WMMMEMMMS', 'MMMMWMMMS', 'SMMMMMMWW']\n['SSMMMMMEE', 'SMMMEMMMS', 'SMMMMMMMS', 'SMMMWMMMS', 'SSMMMMMWW']\n------\nt = 10\n['ENMMMEMMMN', 'NMMMMEMMMN', 'NMMMMMMMMN', 'NMMMMWMMMN', 'WNMMMWMMMN']\n['EMMMMEMMMN', 'MMMMMEMMMN', 'WMMMMEMMMN', 'MMMMMWMMMN', 'WMMMMWMMMN']\n['MMMMMMMMEE', 'SMMMMEMMMN', 'SMMMMMMMMN', 'SMMMMWMMMN', 'MMMMMMMMWW']\n['EMMMMEMMMS', 'MMMMMEMMMS', 'MWMMMEMMMS', 'MMMMMWMMMS', 'WMMMMWMMMS']\n['SSMMMMMMEE', 'SMMMMEMMMS', 'SWMMMEMMMS', 'SMMMMWMMMS', 'SSMMMMMMWW']\n------\nt = 11\n['ENMMMMEMMMN', 'NMMMMMEMMMN', 'WNMMMMEMMMN', 'NMMMMMWMMMN', 'WNMMMMWMMMN']\n['EMMMMMEMMMN', 'MMMMMMEMMMN', 'MWMMMMEMMMN', 'MMMMMMWMMMN', 'WMMMMMWMMMN']\n['MMMMMMMMMEE', 'SMMMMMEMMMN', 'NMWMMMEMMMS', 'SMMMMMWMMMN', 'MMMMMMMMMWW']\n['EMMMMMEMMMS', 'MMMMMMEMMMS', 'MMWMMMEMMMS', 'MMMMMMWMMMS', 'WMMMMMWMMMS']\n['SEMMMMEMMMS', 'SMMMMMEMMMS', 'SMWMMMEMMMS', 'SMMMMMWMMMS', 'SWMMMMWMMMS']\n------\nt = 12\n['ENMMMMMEMMMN', 'NMMMMMMEMMMN', 'NMWMMMMEMMMN', 'NMMMMMMWMMMN', 'WNMMMMMWMMMN']\n['EMMMMMMEMMMN', 'EMWMMMMEMMMN', 'MMWMMMMEMMMN', 'WMWMMMMEMMMN', 'WMMMMMMWMMMN']\n['MMMMMMMMMMEE', 'SMMMMMMEMMMN', 'NMMWMMMEMMMS', 'SMMMMMMWMMMN', 'MMMMMMMMMMWW']\n['EMMMMMMEMMMS', 'EMMWMMMEMMMS', 'MMMWMMMEMMMS', 'WMMWMMMEMMMS', 'WMMMMMMWMMMS']\n['SEMMMMMEMMMS', 'SMMMMMMEMMMS', 'SMMWMMMEMMMS', 'SMMMMMMWMMMS', 'SWMMMMMWMMMS']\n------\nt = 13\n['ENMMMMMMEMMMN', 'ENMWMMMMEMMMN', 'NMMWMMMMEMMMN', 'WNMWMMMMEMMMN', 'WNMMMMMMWMMMN']\n['EEMWMMMMEMMMN', 'EMMWMMMMEMMMN', 'MMMWMMMMEMMMN', 'MWMWMMMMEMMMN', 'WWMWMMMMEMMMN']\n['MMMMMMMMMMMEE', 'ENMMWMMMEMMMS', 'SMMWMMMMEMMMN', 'WNMMWMMMEMMMS', 'MMMMMMMMMMMWW']\n['EEMMWMMMEMMMS', 'EMMMWMMMEMMMS', 'MMMMWMMMEMMMS', 'MWMMWMMMEMMMS', 'WWMMWMMMEMMMS']\n['SEMMMMMMEMMMS', 'SEMMWMMMEMMMS', 'SMMMWMMMEMMMS', 'SWMMWMMMEMMMS', 'SWMMMMMMWMMMS']\n------\nt = 14\n['EENMWMMMMEMMMN', 'ENMMWMMMMEMMMN', 'NMMMWMMMMEMMMN', 'NMWMWMMMMEMMMN', 'WWNMWMMMMEMMMN']\n['EEMMWMMMMEMMMN', 'EMMMWMMMMEMMMN', 'MMMMWMMMMEMMMN', 'MMWMWMMMMEMMMN', 'WMWMWMMMMEMMMN']\n['EENMMWMMMEMMMS', 'SEMMWMMMMEMMMN', 'SMMMWMMMMEMMMN', 'NMWMMWMMMEMMMS', 'WWNMMWMMMEMMMS']\n['EEMMMWMMMEMMMS', 'MEMMMWMMMEMMMS', 'MMMMMWMMMEMMMS', 'MMWMMWMMMEMMMS', 'WMWMMWMMMEMMMS']\n['SEEMMWMMMEMMMS', 'SEMMMWMMMEMMMS', 'SMMMMWMMMEMMMS', 'SMWMMWMMMEMMMS', 'SWWMMWMMMEMMMS']\n------\nt = 15\n['EENMMWMMMMEMMMN', 'ENMMMWMMMMEMMMN', 'NMMMMWMMMMEMMMN', 'NMMWMWMMMMEMMMN', 'WNMWMWMMMMEMMMN']\n['EEMMMWMMMMEMMMN', 'EMMMMWMMMMEMMMN', 'EMMWMWMMMMEMMMN', 'MMMWMWMMMMEMMMN', 'WMMWMWMMMMEMMMN']\n['MEENMMWMMMEMMMS', 'SEMMMWMMMMEMMMN', 'SMMMMWMMMMEMMMN', 'NMMWMMWMMMEMMMS', 'MWWNMMWMMMEMMMS']\n['WWMWMMWMMMEMMMS', 'MMEMMMWMMMEMMMS', 'EMMWMMWMMMEMMMS', 'MMMWMMWMMMEMMMS', 'WMMWMMWMMMEMMMS']\n['SEEMMMWMMMEMMMS', 'SMEMMMWMMMEMMMS', 'SMMMMMWMMMEMMMS', 'SMMWMMWMMMEMMMS', 'SWMWMMWMMMEMMMS']\n"
    }
   ],
   "source": [
    "from dataclasses import dataclass\n",
    "\n",
    "# action names\n",
    "NORTH = 'N'\n",
    "SOUTH = 'S'\n",
    "EAST = 'E'\n",
    "WEST = 'W'\n",
    "MINE = 'M'\n",
    "\n",
    "# actions and where they come from\n",
    "possible_actions = [\n",
    "    (Point(1, 0), WEST),\n",
    "    (Point(-1, 0), EAST), \n",
    "    # North and south are backward\n",
    "    (Point(0, 1), SOUTH), \n",
    "    (Point(0, -1), NORTH), \n",
    "    (Point(0,0), MINE)]\n",
    "\n",
    "@dataclass\n",
    "class Route:\n",
    "    # path is a str of concatenated action names\n",
    "    path: str\n",
    "    # expected amount of halite gained from this route\n",
    "    value: int\n",
    "\n",
    "# where an action would take you\n",
    "dir_lookup = {\n",
    "    EAST: Point(1, 0),\n",
    "    WEST: Point(-1, 0),\n",
    "    # north and south are backward\n",
    "    NORTH: Point(0,1),\n",
    "    SOUTH: Point(0,-1)\n",
    "}\n",
    "\n",
    "def score_path(path: str, start_point: Point):\n",
    "    ''' find the expected score from path\n",
    "    path is a str of concatenated action names\n",
    "    TODO: Use the score of path[1:] to solve for the score of path\n",
    "    '''\n",
    "    halite = {point:cell.halite for point, cell in board.cells.items()}\n",
    "    final_score = 0\n",
    "    curr_pos = start_point\n",
    "    for action in path:\n",
    "        if action == MINE:\n",
    "            final_score += halite[curr_pos]*0.25\n",
    "            halite[curr_pos] *= 0.75\n",
    "        else:\n",
    "            curr_pos = (curr_pos+dir_lookup[action]) % board_size\n",
    "    return final_score\n",
    "\n",
    "t_max = 15\n",
    "\n",
    "# TODO: Convert to numpy matrices\n",
    "# m is a matrix of starting point to best route to a dest\n",
    "m = [[None for x in range(board_size)] for y in range(board_size)]\n",
    "# in this example 2,2 is the only dest\n",
    "m[2][2] = Route('', 0)\n",
    "\n",
    "m_next = [[None for x in range(board_size)] for y in range(board_size)]\n",
    "for t in range(1, t_max+1):\n",
    "    print('------')\n",
    "    print(f't = {t}')\n",
    "    for y in range(board_size):\n",
    "        for x in range(board_size):\n",
    "            # if there was a viable path to a dest from [y][x] for t[i-1]\n",
    "            if m[y][x] is not None:\n",
    "                me = m[y][x]\n",
    "                # then there must be a viable path to all of my neighbors for t[i]\n",
    "                for n in possible_actions:\n",
    "                    p = (Point(x, y) + n[0]) % board_size\n",
    "                    # The expected score to go from (x, y) to p\n",
    "                    p_score = score_path(n[1] + me.path, p) if n[1] == MINE else me.value\n",
    "                    # we have found the first path for p or we have found a better path for p\n",
    "                    if m_next[p.y][p.x] is None or p_score > m_next[p.y][p.x].value:\n",
    "                       m_next[p.y][p.x] = Route(n[1] + me.path, p_score)\n",
    "    for row in m_next:\n",
    "        print([s.path if s is not None else ' '*t for s in row])\n",
    "    m = m_next\n",
    "    m_next = [[None for x in range(board_size)] for y in range(board_size)]"
   ]
  },
  {
   "cell_type": "code",
   "execution_count": 156,
   "metadata": {
    "tags": []
   },
   "outputs": [
    {
     "output_type": "stream",
     "name": "stdout",
     "text": "start pos: (4, 4) destination: (2, 2)\nhead South to (4, 3)\nhead West to (3, 3)\nMine\nhead West to (2, 3)\nMine\nMine\nhead West to (1, 3)\nMine\nMine\nMine\nhead East to (2, 3)\nMine\nMine\nMine\nhead South to (2, 2)\nexpected halite: 125.5929951171875\n"
    }
   ],
   "source": [
    "friendly_names = {\n",
    "    'N': 'North',\n",
    "    'S': 'South',\n",
    "    'E': 'East',\n",
    "    'W': 'West'\n",
    "}\n",
    "ship_pos = list(board.ships.values())[0].position\n",
    "print('start pos:', ship_pos, 'destination: (2, 2)')\n",
    "route = m[ship_pos.y][ship_pos.x]\n",
    "curr_pos = ship_pos\n",
    "for p in route.path:\n",
    "    if p == MINE:\n",
    "        print('Mine')\n",
    "        continue\n",
    "    curr_pos = (dir_lookup[p]+curr_pos)%board_size\n",
    "    print(f'head {friendly_names[p]} to {curr_pos}')\n",
    "print('expected halite:', route.value)"
   ]
  },
  {
   "cell_type": "code",
   "execution_count": null,
   "metadata": {},
   "outputs": [],
   "source": []
  }
 ],
 "metadata": {
  "kernelspec": {
   "display_name": "Python 3",
   "language": "python",
   "name": "python3"
  },
  "language_info": {
   "codemirror_mode": {
    "name": "ipython",
    "version": 3
   },
   "file_extension": ".py",
   "mimetype": "text/x-python",
   "name": "python",
   "nbconvert_exporter": "python",
   "pygments_lexer": "ipython3",
   "version": "3.8.5"
  }
 },
 "nbformat": 4,
 "nbformat_minor": 4
}